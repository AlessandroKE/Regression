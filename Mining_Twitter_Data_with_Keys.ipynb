{
 "cells": [
  {
   "cell_type": "code",
   "execution_count": null,
   "metadata": {},
   "outputs": [],
   "source": []
  },
  {
   "cell_type": "code",
   "execution_count": null,
   "metadata": {},
   "outputs": [
    {
     "name": "stdout",
     "output_type": "stream",
     "text": [
      "Looking in indexes: https://pypi.org/simple, https://us-python.pkg.dev/colab-wheels/public/simple/\n",
      "Requirement already satisfied: tweepy in /usr/local/lib/python3.8/dist-packages (3.10.0)\n",
      "Requirement already satisfied: six>=1.10.0 in /usr/local/lib/python3.8/dist-packages (from tweepy) (1.15.0)\n",
      "Requirement already satisfied: requests-oauthlib>=0.7.0 in /usr/local/lib/python3.8/dist-packages (from tweepy) (1.3.1)\n",
      "Requirement already satisfied: requests[socks]>=2.11.1 in /usr/local/lib/python3.8/dist-packages (from tweepy) (2.25.1)\n",
      "Requirement already satisfied: oauthlib>=3.0.0 in /usr/local/lib/python3.8/dist-packages (from requests-oauthlib>=0.7.0->tweepy) (3.2.2)\n",
      "Requirement already satisfied: urllib3<1.27,>=1.21.1 in /usr/local/lib/python3.8/dist-packages (from requests[socks]>=2.11.1->tweepy) (1.24.3)\n",
      "Requirement already satisfied: certifi>=2017.4.17 in /usr/local/lib/python3.8/dist-packages (from requests[socks]>=2.11.1->tweepy) (2022.12.7)\n",
      "Requirement already satisfied: idna<3,>=2.5 in /usr/local/lib/python3.8/dist-packages (from requests[socks]>=2.11.1->tweepy) (2.10)\n",
      "Requirement already satisfied: chardet<5,>=3.0.2 in /usr/local/lib/python3.8/dist-packages (from requests[socks]>=2.11.1->tweepy) (4.0.0)\n",
      "Requirement already satisfied: PySocks!=1.5.7,>=1.5.6 in /usr/local/lib/python3.8/dist-packages (from requests[socks]>=2.11.1->tweepy) (1.7.1)\n"
     ]
    }
   ],
   "source": [
    "pip install tweepy"
   ]
  },
  {
   "cell_type": "code",
   "execution_count": null,
   "metadata": {},
   "outputs": [],
   "source": [
    "# Imports the needed libraries\n",
    "# You may need to install tweepy\n",
    "import tweepy\n",
    "import pandas as pd\n",
    "import time"
   ]
  },
  {
   "cell_type": "code",
   "execution_count": null,
   "metadata": {},
   "outputs": [],
   "source": [
    "api_key = 'y3Ss7LEomTSRu1qGvydZZyqL0'\n",
    "api_key_secret = 'ALiWGn8eRRk0BSP5WN8zMyYb8GQgdRqDfkd77YZ14HDj8XJB8a'\n",
    "access_token = '34103544-mfZdwY9HzHW2PvRotpFzUfcp0MY55vf3RB3sKdPzG'\n",
    "access_token_secret = 'bcGvdXw4YPDbOSKnHEsIdXzI2QsBGABf2f07R2kju22vg'\n",
    "auth = tweepy.OAuthHandler(api_key, api_key_secret)\n",
    "auth.set_access_token(access_token, access_token_secret)\n",
    "api = tweepy.API(auth,wait_on_rate_limit=True)"
   ]
  },
  {
   "cell_type": "code",
   "execution_count": null,
   "metadata": {},
   "outputs": [],
   "source": [
    "# to get a keyword search returning 15 \n",
    "# query = COVID or whatever you want\n",
    "# tweet_mode extended contains the entire untruncated text of the Tweet\n",
    "# _tweets\n",
    "cursor = tweepy.Cursor(api.search, q=\"balloon\", tweet_mode = 'extended').items(15)"
   ]
  },
  {
   "cell_type": "code",
   "execution_count": null,
   "metadata": {},
   "outputs": [
    {
     "name": "stdout",
     "output_type": "stream",
     "text": [
      "RT @answerkhj: one atiny getting attacked by hongjoong’s balloon wasn’t enough so here’s seonghwa doing the exact same thing https://t.co/A…\n",
      "#nbcnews @NBCNews how’d you miss this Chinese spy balloon ??? https://t.co/e19aBzb4EW\n",
      "RT @CheriJacobus: Terry Power on FB:\n",
      "\n",
      "\"I followed this Chinese balloon for almost 200 miles only to eventually realize it was bird poop on…\n",
      "RT @RealCarlVernon: Days after a big balloon gets shot down, advanced ufos are now flying around and getting shot down - with no footage.…\n",
      "Media should spend time on this rather than the breathless coverage about another balloon shot down.  https://t.co/mX60n8T6Fp\n",
      "@EddieCaiazzo Chinese space balloon outfits!\n",
      "RT @KD15181: I'm physically ill that \"normal\" people are just eating up the balloon, spycraft, alien UFO bullshit whilst an entire communit…\n",
      "RT @WeTheBrandon: What was shot down supposedly over Canada by F-22s was NOT an alien craft. These are highly advanced Chinese hypersonic d…\n",
      "RT @NFSC_HAGnews: Balloon will be a powerful weapons in Taiwan War, it is a destructive biological and chemical weapons. https://t.co/gte0X…\n",
      "RT @KobeissiLetter: Timeline of UFO Events:\n",
      "\n",
      "1. Feb 2: Chinese Balloon spotted\n",
      "\n",
      "2. Feb 4: Chinese Balloon shot down\n",
      "\n",
      "3. Feb 10: UFO seen ov…\n",
      "RT @themarketswork: This is getting ridiculous.\n",
      "\n",
      "NORAD changed the filters after the \"original\" Chinese Spy Balloon. Their systems are now…\n",
      "@kylenabecker I’d watch a spy balloon tracker than this boring performance.\n",
      "RT @Jags24Asare: Sorry about tweeting on this so much, its just my mind cant wrap itself around the fact that this is actively happening in…\n",
      "RT @idreesali114: The Pentagon says the Chinese spy balloon brought down was different from other objects, since U.S. military knew exactly…\n",
      "@SebGorka @samsmith Need an F-22 to shot down that black balloon\n"
     ]
    }
   ],
   "source": [
    "for i in cursor:\n",
    " print(i.full_text)"
   ]
  },
  {
   "cell_type": "code",
   "execution_count": null,
   "metadata": {},
   "outputs": [
    {
     "name": "stdout",
     "output_type": "stream",
     "text": [
      "['__class__', '__delattr__', '__dict__', '__dir__', '__doc__', '__eq__', '__format__', '__ge__', '__getattribute__', '__getstate__', '__gt__', '__hash__', '__init__', '__init_subclass__', '__le__', '__lt__', '__module__', '__ne__', '__new__', '__reduce__', '__reduce_ex__', '__repr__', '__setattr__', '__sizeof__', '__str__', '__subclasshook__', '__weakref__', '_api', '_json', 'author', 'contributors', 'coordinates', 'created_at', 'destroy', 'display_text_range', 'entities', 'favorite', 'favorite_count', 'favorited', 'full_text', 'geo', 'id', 'id_str', 'in_reply_to_screen_name', 'in_reply_to_status_id', 'in_reply_to_status_id_str', 'in_reply_to_user_id', 'in_reply_to_user_id_str', 'is_quote_status', 'lang', 'metadata', 'parse', 'parse_list', 'place', 'retweet', 'retweet_count', 'retweeted', 'retweeted_status', 'retweets', 'source', 'source_url', 'truncated', 'user']\n"
     ]
    }
   ],
   "source": [
    "# to get a keyword search\n",
    "# return a directory of available objects\n",
    "cursor = tweepy.Cursor(api.search, q=\"balloon\", tweet_mode = 'extended').items(1)\n",
    "for i in cursor:\n",
    " print(dir(i))"
   ]
  },
  {
   "cell_type": "code",
   "execution_count": null,
   "metadata": {},
   "outputs": [
    {
     "data": {
      "text/plain": [
       "['Twitter for Android',\n",
       " 'Twitter for iPhone',\n",
       " 'Twitter for iPhone',\n",
       " 'Twitter for Android',\n",
       " 'Twitter for iPhone',\n",
       " 'Twitter for iPhone',\n",
       " 'Twitter for iPhone',\n",
       " 'Twitter for Android',\n",
       " 'Twitter for Android',\n",
       " 'Twitter for iPhone',\n",
       " 'Twitter for Android',\n",
       " 'Twitter for Android',\n",
       " 'Twitter for iPhone',\n",
       " 'Twitter Web App',\n",
       " 'Twitter for iPhone',\n",
       " 'Twitter for Android',\n",
       " 'Twitter Web App',\n",
       " 'Twitter for Android',\n",
       " 'Twitter for iPhone',\n",
       " 'Twitter Web App']"
      ]
     },
     "metadata": {},
     "output_type": "display_data"
    }
   ],
   "source": [
    "# return tweets and create a series of empty lists\n",
    "number_of_tweets = 20\n",
    "tweets = []\n",
    "likes = []\n",
    "time= []\n",
    "source = []\n",
    "for i in tweepy.Cursor (api.search, q =\"balloon\", tweet_mode = 'extended', lang='en').items(20):\n",
    " tweets.append(i.full_text)\n",
    " likes.append (i.favorite_count)\n",
    " time.append (i.created_at)\n",
    " source.append (i.source)\n",
    "source\n",
    "# You can run this for each of your placeholders (i.e. tweets, likes, etc.)"
   ]
  },
  {
   "cell_type": "code",
   "execution_count": null,
   "metadata": {},
   "outputs": [
    {
     "data": {
      "text/html": [
       "\n",
       "  <div id=\"df-4a48bd25-ec52-434e-b3f3-503ed74e7951\">\n",
       "    <div class=\"colab-df-container\">\n",
       "      <div>\n",
       "<style scoped>\n",
       "    .dataframe tbody tr th:only-of-type {\n",
       "        vertical-align: middle;\n",
       "    }\n",
       "\n",
       "    .dataframe tbody tr th {\n",
       "        vertical-align: top;\n",
       "    }\n",
       "\n",
       "    .dataframe thead th {\n",
       "        text-align: right;\n",
       "    }\n",
       "</style>\n",
       "<table border=\"1\" class=\"dataframe\">\n",
       "  <thead>\n",
       "    <tr style=\"text-align: right;\">\n",
       "      <th></th>\n",
       "      <th>tweets</th>\n",
       "      <th>likes</th>\n",
       "      <th>time</th>\n",
       "      <th>source</th>\n",
       "    </tr>\n",
       "  </thead>\n",
       "  <tbody>\n",
       "    <tr>\n",
       "      <th>0</th>\n",
       "      <td>RT @EmoPhilips: the spy balloon shows how far ...</td>\n",
       "      <td>0</td>\n",
       "      <td>2023-02-13 01:38:03</td>\n",
       "      <td>Twitter for Android</td>\n",
       "    </tr>\n",
       "    <tr>\n",
       "      <th>1</th>\n",
       "      <td>You think that Chinese spy balloon is seeing t...</td>\n",
       "      <td>0</td>\n",
       "      <td>2023-02-13 01:38:02</td>\n",
       "      <td>Twitter for iPhone</td>\n",
       "    </tr>\n",
       "    <tr>\n",
       "      <th>2</th>\n",
       "      <td>Seems like the star if this show is the Chines...</td>\n",
       "      <td>0</td>\n",
       "      <td>2023-02-13 01:38:02</td>\n",
       "      <td>Twitter for iPhone</td>\n",
       "    </tr>\n",
       "    <tr>\n",
       "      <th>3</th>\n",
       "      <td>@jsam10983741 I think you're wrong. The balloo...</td>\n",
       "      <td>0</td>\n",
       "      <td>2023-02-13 01:38:01</td>\n",
       "      <td>Twitter for Android</td>\n",
       "    </tr>\n",
       "    <tr>\n",
       "      <th>4</th>\n",
       "      <td>RT @KobeissiLetter: Timeline of UFO Events:\\n\\...</td>\n",
       "      <td>0</td>\n",
       "      <td>2023-02-13 01:38:01</td>\n",
       "      <td>Twitter for iPhone</td>\n",
       "    </tr>\n",
       "  </tbody>\n",
       "</table>\n",
       "</div>\n",
       "      <button class=\"colab-df-convert\" onclick=\"convertToInteractive('df-4a48bd25-ec52-434e-b3f3-503ed74e7951')\"\n",
       "              title=\"Convert this dataframe to an interactive table.\"\n",
       "              style=\"display:none;\">\n",
       "        \n",
       "  <svg xmlns=\"http://www.w3.org/2000/svg\" height=\"24px\"viewBox=\"0 0 24 24\"\n",
       "       width=\"24px\">\n",
       "    <path d=\"M0 0h24v24H0V0z\" fill=\"none\"/>\n",
       "    <path d=\"M18.56 5.44l.94 2.06.94-2.06 2.06-.94-2.06-.94-.94-2.06-.94 2.06-2.06.94zm-11 1L8.5 8.5l.94-2.06 2.06-.94-2.06-.94L8.5 2.5l-.94 2.06-2.06.94zm10 10l.94 2.06.94-2.06 2.06-.94-2.06-.94-.94-2.06-.94 2.06-2.06.94z\"/><path d=\"M17.41 7.96l-1.37-1.37c-.4-.4-.92-.59-1.43-.59-.52 0-1.04.2-1.43.59L10.3 9.45l-7.72 7.72c-.78.78-.78 2.05 0 2.83L4 21.41c.39.39.9.59 1.41.59.51 0 1.02-.2 1.41-.59l7.78-7.78 2.81-2.81c.8-.78.8-2.07 0-2.86zM5.41 20L4 18.59l7.72-7.72 1.47 1.35L5.41 20z\"/>\n",
       "  </svg>\n",
       "      </button>\n",
       "      \n",
       "  <style>\n",
       "    .colab-df-container {\n",
       "      display:flex;\n",
       "      flex-wrap:wrap;\n",
       "      gap: 12px;\n",
       "    }\n",
       "\n",
       "    .colab-df-convert {\n",
       "      background-color: #E8F0FE;\n",
       "      border: none;\n",
       "      border-radius: 50%;\n",
       "      cursor: pointer;\n",
       "      display: none;\n",
       "      fill: #1967D2;\n",
       "      height: 32px;\n",
       "      padding: 0 0 0 0;\n",
       "      width: 32px;\n",
       "    }\n",
       "\n",
       "    .colab-df-convert:hover {\n",
       "      background-color: #E2EBFA;\n",
       "      box-shadow: 0px 1px 2px rgba(60, 64, 67, 0.3), 0px 1px 3px 1px rgba(60, 64, 67, 0.15);\n",
       "      fill: #174EA6;\n",
       "    }\n",
       "\n",
       "    [theme=dark] .colab-df-convert {\n",
       "      background-color: #3B4455;\n",
       "      fill: #D2E3FC;\n",
       "    }\n",
       "\n",
       "    [theme=dark] .colab-df-convert:hover {\n",
       "      background-color: #434B5C;\n",
       "      box-shadow: 0px 1px 3px 1px rgba(0, 0, 0, 0.15);\n",
       "      filter: drop-shadow(0px 1px 2px rgba(0, 0, 0, 0.3));\n",
       "      fill: #FFFFFF;\n",
       "    }\n",
       "  </style>\n",
       "\n",
       "      <script>\n",
       "        const buttonEl =\n",
       "          document.querySelector('#df-4a48bd25-ec52-434e-b3f3-503ed74e7951 button.colab-df-convert');\n",
       "        buttonEl.style.display =\n",
       "          google.colab.kernel.accessAllowed ? 'block' : 'none';\n",
       "\n",
       "        async function convertToInteractive(key) {\n",
       "          const element = document.querySelector('#df-4a48bd25-ec52-434e-b3f3-503ed74e7951');\n",
       "          const dataTable =\n",
       "            await google.colab.kernel.invokeFunction('convertToInteractive',\n",
       "                                                     [key], {});\n",
       "          if (!dataTable) return;\n",
       "\n",
       "          const docLinkHtml = 'Like what you see? Visit the ' +\n",
       "            '<a target=\"_blank\" href=https://colab.research.google.com/notebooks/data_table.ipynb>data table notebook</a>'\n",
       "            + ' to learn more about interactive tables.';\n",
       "          element.innerHTML = '';\n",
       "          dataTable['output_type'] = 'display_data';\n",
       "          await google.colab.output.renderOutput(dataTable, element);\n",
       "          const docLink = document.createElement('div');\n",
       "          docLink.innerHTML = docLinkHtml;\n",
       "          element.appendChild(docLink);\n",
       "        }\n",
       "      </script>\n",
       "    </div>\n",
       "  </div>\n",
       "  "
      ],
      "text/plain": [
       "                                              tweets  likes  \\\n",
       "0  RT @EmoPhilips: the spy balloon shows how far ...      0   \n",
       "1  You think that Chinese spy balloon is seeing t...      0   \n",
       "2  Seems like the star if this show is the Chines...      0   \n",
       "3  @jsam10983741 I think you're wrong. The balloo...      0   \n",
       "4  RT @KobeissiLetter: Timeline of UFO Events:\\n\\...      0   \n",
       "\n",
       "                 time               source  \n",
       "0 2023-02-13 01:38:03  Twitter for Android  \n",
       "1 2023-02-13 01:38:02   Twitter for iPhone  \n",
       "2 2023-02-13 01:38:02   Twitter for iPhone  \n",
       "3 2023-02-13 01:38:01  Twitter for Android  \n",
       "4 2023-02-13 01:38:01   Twitter for iPhone  "
      ]
     },
     "metadata": {},
     "output_type": "display_data"
    }
   ],
   "source": [
    "# create a dataframe from the lists and output in table format\n",
    "df = pd.DataFrame ({'tweets':tweets, 'likes':likes, \"time\": time, 'source':source})\n",
    "df.head()"
   ]
  },
  {
   "cell_type": "code",
   "execution_count": null,
   "metadata": {},
   "outputs": [],
   "source": [
    "# create dataframe with filtered results\n",
    "df = df[~df.tweets.str.contains (\"RT\")]"
   ]
  },
  {
   "cell_type": "code",
   "execution_count": null,
   "metadata": {},
   "outputs": [
    {
     "name": "stdout",
     "output_type": "stream",
     "text": [
      "                                               tweets  likes  \\\n",
      "14  If Rihanna doesn’t leave the stage in a Chines...      0   \n",
      "18  @RonFilipkowski a chinese balloon carrying a n...      0   \n",
      "19                @WendyJean13 Look, its; a Balloon!!      0   \n",
      "\n",
      "                  time              source  \n",
      "14 2023-02-13 01:37:59  Twitter for iPhone  \n",
      "18 2023-02-13 01:37:58  Twitter for iPhone  \n",
      "19 2023-02-13 01:37:58     Twitter Web App  \n"
     ]
    }
   ],
   "source": [
    "# return last 3 records\n",
    "print(df.tail(3))"
   ]
  },
  {
   "cell_type": "code",
   "execution_count": null,
   "metadata": {},
   "outputs": [
    {
     "data": {
      "application/javascript": "\n    async function download(id, filename, size) {\n      if (!google.colab.kernel.accessAllowed) {\n        return;\n      }\n      const div = document.createElement('div');\n      const label = document.createElement('label');\n      label.textContent = `Downloading \"${filename}\": `;\n      div.appendChild(label);\n      const progress = document.createElement('progress');\n      progress.max = size;\n      div.appendChild(progress);\n      document.body.appendChild(div);\n\n      const buffers = [];\n      let downloaded = 0;\n\n      const channel = await google.colab.kernel.comms.open(id);\n      // Send a message to notify the kernel that we're ready.\n      channel.send({})\n\n      for await (const message of channel.messages) {\n        // Send a message to notify the kernel that we're ready.\n        channel.send({})\n        if (message.buffers) {\n          for (const buffer of message.buffers) {\n            buffers.push(buffer);\n            downloaded += buffer.byteLength;\n            progress.value = downloaded;\n          }\n        }\n      }\n      const blob = new Blob(buffers, {type: 'application/binary'});\n      const a = document.createElement('a');\n      a.href = window.URL.createObjectURL(blob);\n      a.download = filename;\n      div.appendChild(a);\n      a.click();\n      div.remove();\n    }\n  ",
      "text/plain": [
       "<IPython.core.display.Javascript object>"
      ]
     },
     "metadata": {},
     "output_type": "display_data"
    },
    {
     "data": {
      "application/javascript": "download(\"download_7d22db30-090b-4e86-b5ad-46ff46fc3320\", \"tweets.txt\", 1433)",
      "text/plain": [
       "<IPython.core.display.Javascript object>"
      ]
     },
     "metadata": {},
     "output_type": "display_data"
    }
   ],
   "source": [
    "from google.colab import files\n",
    "\n",
    "df.to_csv('tweets.txt')\n",
    "\n",
    "files.download('tweets.txt')"
   ]
  },
  {
   "cell_type": "code",
   "execution_count": null,
   "metadata": {},
   "outputs": [],
   "source": []
  }
 ],
 "metadata": {
  "language_info": {
   "name": "python"
  },
  "orig_nbformat": 4
 },
 "nbformat": 4,
 "nbformat_minor": 2
}
